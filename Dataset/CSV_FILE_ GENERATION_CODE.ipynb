{
  "nbformat": 4,
  "nbformat_minor": 0,
  "metadata": {
    "colab": {
      "provenance": []
    },
    "kernelspec": {
      "name": "python3",
      "display_name": "Python 3"
    },
    "language_info": {
      "name": "python"
    },
    "gpuClass": "standard",
    "accelerator": "GPU"
  },
  "cells": [
    {
      "cell_type": "markdown",
      "source": [
        "MOUNT GOOGLE DRIVE"
      ],
      "metadata": {
        "id": "8YplFE7bDnuK"
      }
    },
    {
      "cell_type": "code",
      "source": [
        "from google.colab import drive\n",
        "drive.mount('/content/drive')"
      ],
      "metadata": {
        "colab": {
          "base_uri": "https://localhost:8080/"
        },
        "id": "QSbt2mA_eFTY",
        "outputId": "42402cce-bf9c-4711-baa1-a469e6c59f0f"
      },
      "execution_count": 1,
      "outputs": [
        {
          "output_type": "stream",
          "name": "stdout",
          "text": [
            "Mounted at /content/drive\n"
          ]
        }
      ]
    },
    {
      "cell_type": "markdown",
      "source": [
        "IMPORT LIBRARIES"
      ],
      "metadata": {
        "id": "z1tyk7oVDrGM"
      }
    },
    {
      "cell_type": "code",
      "source": [
        "import pandas as pd"
      ],
      "metadata": {
        "id": "4Piye64xjX3h"
      },
      "execution_count": 2,
      "outputs": []
    },
    {
      "cell_type": "code",
      "source": [
        "import os"
      ],
      "metadata": {
        "id": "fMOu7vsjgOuy"
      },
      "execution_count": 3,
      "outputs": []
    },
    {
      "cell_type": "code",
      "source": [
        "import cv2\n",
        "import numpy as np\n",
        "from matplotlib import pyplot as plt\n",
        "import matplotlib.image as mpimg"
      ],
      "metadata": {
        "id": "17EW_Bt8Kkee"
      },
      "execution_count": 4,
      "outputs": []
    },
    {
      "cell_type": "markdown",
      "source": [
        "GENERATING FEATURES FROM IMAGES AND STORING IN CSV"
      ],
      "metadata": {
        "id": "TyjyYCnIDuyk"
      }
    },
    {
      "cell_type": "code",
      "source": [
        "char_arr = []\n",
        "area_arr=[]\n",
        "perimeter_arr=[]\n",
        "RND_arr=[]\n",
        "center_x=[]\n",
        "center_y=[]\n",
        "ratio_arr=[]\n",
        "for j in range(26):\n",
        "  #directory path for every alphabet\n",
        "  folder_dir=\"/content/drive/MyDrive/test_set/\"+str(chr(65+j))\n",
        "  #reading all images in a loop\n",
        "  for img in os.listdir(folder_dir):\n",
        "    f = os.path.join(folder_dir, img)\n",
        "    #reading images from cv2 and storing in img\n",
        "    img =cv2.imread(f)\n",
        "    #converting into grey scale\n",
        "    image =cv2.cvtColor(img, cv2.COLOR_BGR2GRAY)\n",
        "    #finding contour in images\n",
        "    contours,hierarchy = cv2.findContours(image, cv2.RETR_EXTERNAL, cv2.CHAIN_APPROX_NONE)\n",
        "    #if detect only then this\n",
        "    if(len(contours)==1):\n",
        "       contoue = np.squeeze(contours[0]).copy()\n",
        "       contoue1=np.copy(contours)\n",
        "    #if detects more then 1 take the contour having the max length\n",
        "    else:\n",
        "      ma1x=0\n",
        "      for i in range(len(contours)):\n",
        "         if(len(contours[i])>ma1x):\n",
        "           contoue=np.squeeze(contours[i]).copy()\n",
        "           ma1x=len(contours[i])\n",
        "           contoue2=np.copy(contours[i])\n",
        "           contoue1=[]\n",
        "           contoue1.append(contoue2)\n",
        "    for i in range(contours[0].shape[0]):\n",
        "        contoue[i][1]=contoue[i][1]-32\n",
        "    for i in range(contours[0].shape[0]):\n",
        "         if(contoue[i][1]<0):\n",
        "             contoue[i][1]=abs(contoue[i][1])\n",
        "             contoue[i][1] = contoue[i][1] + 32\n",
        "         else:\n",
        "            contoue[i][1]=-contoue[i][1]\n",
        "            contoue[i][1] = contoue[i][1] + 32\n",
        "    for cnt in contours:\n",
        "        epsilon = 0.01*cv2.arcLength(cnt, True)\n",
        "        approx = cv2.approxPolyDP(cnt, epsilon, True)\n",
        "        img = cv2.drawContours(img, [approx], -1, (0,225,0), 1)\n",
        "    for cnt in contoue1:\n",
        "        #calculating center,area,perimeter\n",
        "        M = cv2.moments(cnt)\n",
        "        cx = float(M['m10']/M['m00'])\n",
        "        cy = float(M['m01'] / M['m00'])\n",
        "        center_x.append(cx)\n",
        "        center_y.append(cy)\n",
        "        area = cv2.contourArea(cnt)\n",
        "        perimeter = cv2.arcLength(cnt,True)\n",
        "    y=contoue.copy()\n",
        "    #calculating ratio\n",
        "    x=y[:,0]\n",
        "    y=y[:,1]\n",
        "    w=max(x)-min(x)\n",
        "    h=max(y)-min(y)\n",
        "    ratio=h/w\n",
        "    #calculating roundness\n",
        "    RND=(4*3.14*area)/(perimeter*perimeter)\n",
        "    #storing the results\n",
        "    char_arr.append(str(chr(65+j)))\n",
        "    area_arr.append(area)\n",
        "    perimeter_arr.append(perimeter)\n",
        "    RND_arr.append(RND)\n",
        "    ratio_arr.append(ratio)"
      ],
      "metadata": {
        "id": "Mkbn9fxBk7em"
      },
      "execution_count": null,
      "outputs": []
    },
    {
      "cell_type": "markdown",
      "source": [
        "MAKING DICTIONARY OF RESULTS"
      ],
      "metadata": {
        "id": "iXYbSFJGn1me"
      }
    },
    {
      "cell_type": "code",
      "source": [
        "dict = {'char':char_arr,'area':area_arr,'perimeter':perimeter_arr,'roundness':RND_arr, 'ratio':ratio_arr, 'center_x':center_x, 'center_y':center_y}"
      ],
      "metadata": {
        "id": "UUcROPcriUmB"
      },
      "execution_count": null,
      "outputs": []
    },
    {
      "cell_type": "markdown",
      "source": [
        "MAKING DATAFRAME OF DICTIONARY"
      ],
      "metadata": {
        "id": "MjzqC9d3n7Yi"
      }
    },
    {
      "cell_type": "code",
      "source": [
        "df = pd.DataFrame(dict)"
      ],
      "metadata": {
        "id": "evOH7Wdrjb-N"
      },
      "execution_count": null,
      "outputs": []
    },
    {
      "cell_type": "code",
      "source": [
        "print(df)"
      ],
      "metadata": {
        "colab": {
          "base_uri": "https://localhost:8080/"
        },
        "id": "_hAlDn3GjeH_",
        "outputId": "4cf736aa-c36d-4b18-de06-2c1c0db02b43"
      },
      "execution_count": null,
      "outputs": [
        {
          "output_type": "stream",
          "name": "stdout",
          "text": [
            "     char    area   perimeter  roundness     ratio   center_x   center_y\n",
            "0       A  1454.0  165.396969   0.667573  1.225000  29.698533  38.675378\n",
            "1       A  1506.5  165.982755   0.686804  1.090909  28.652395  41.077221\n",
            "2       A  1324.0  163.053823   0.625483  1.022727  30.107628  39.128399\n",
            "3       A  1680.0  173.396969   0.701804  1.065217  28.899802  38.076488\n",
            "4       A  1400.5  163.639609   0.656895  1.256410  29.642985  38.826253\n",
            "...   ...     ...         ...        ...       ...        ...        ...\n",
            "6495    Z  1024.5  137.497474   0.680632  1.228571  32.561249  45.669432\n",
            "6496    Z  1171.5  163.639609   0.549484  1.416667  31.568502  37.626974\n",
            "6497    Z  1043.5  151.639609   0.569976  1.184211  30.239898  43.323910\n",
            "6498    Z  1179.5  159.982755   0.578817  1.457143  31.380246  37.542038\n",
            "6499    Z  1024.0  140.911687   0.647732  1.200000  32.429688  45.902832\n",
            "\n",
            "[6500 rows x 7 columns]\n"
          ]
        }
      ]
    },
    {
      "cell_type": "markdown",
      "source": [
        "MAKING CSV FILE"
      ],
      "metadata": {
        "id": "qpF95N1toDk-"
      }
    },
    {
      "cell_type": "code",
      "source": [
        "df.to_csv('train.csv')"
      ],
      "metadata": {
        "id": "CowgPObEmkKW"
      },
      "execution_count": null,
      "outputs": []
    }
  ]
}